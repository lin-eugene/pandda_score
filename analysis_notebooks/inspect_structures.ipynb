{
 "cells": [
  {
   "cell_type": "code",
   "execution_count": 1,
   "metadata": {},
   "outputs": [
    {
     "name": "stderr",
     "output_type": "stream",
     "text": [
      "/Users/eugene/opt/miniconda3/envs/pandda_env/lib/python3.9/site-packages/tqdm/auto.py:22: TqdmWarning:\n",
      "\n",
      "IProgress not found. Please update jupyter and ipywidgets. See https://ipywidgets.readthedocs.io/en/stable/user_install.html\n",
      "\n"
     ]
    },
    {
     "ename": "KeyError",
     "evalue": "'pred_probabilities'",
     "output_type": "error",
     "traceback": [
      "\u001b[0;31m---------------------------------------------------------------------------\u001b[0m",
      "\u001b[0;31mKeyError\u001b[0m                                  Traceback (most recent call last)",
      "File \u001b[0;32m~/opt/miniconda3/envs/pandda_env/lib/python3.9/site-packages/pandas/core/indexes/base.py:3621\u001b[0m, in \u001b[0;36mIndex.get_loc\u001b[0;34m(self, key, method, tolerance)\u001b[0m\n\u001b[1;32m   3620\u001b[0m \u001b[39mtry\u001b[39;00m:\n\u001b[0;32m-> 3621\u001b[0m     \u001b[39mreturn\u001b[39;00m \u001b[39mself\u001b[39;49m\u001b[39m.\u001b[39;49m_engine\u001b[39m.\u001b[39;49mget_loc(casted_key)\n\u001b[1;32m   3622\u001b[0m \u001b[39mexcept\u001b[39;00m \u001b[39mKeyError\u001b[39;00m \u001b[39mas\u001b[39;00m err:\n",
      "File \u001b[0;32m~/opt/miniconda3/envs/pandda_env/lib/python3.9/site-packages/pandas/_libs/index.pyx:136\u001b[0m, in \u001b[0;36mpandas._libs.index.IndexEngine.get_loc\u001b[0;34m()\u001b[0m\n",
      "File \u001b[0;32m~/opt/miniconda3/envs/pandda_env/lib/python3.9/site-packages/pandas/_libs/index.pyx:163\u001b[0m, in \u001b[0;36mpandas._libs.index.IndexEngine.get_loc\u001b[0;34m()\u001b[0m\n",
      "File \u001b[0;32mpandas/_libs/hashtable_class_helper.pxi:5198\u001b[0m, in \u001b[0;36mpandas._libs.hashtable.PyObjectHashTable.get_item\u001b[0;34m()\u001b[0m\n",
      "File \u001b[0;32mpandas/_libs/hashtable_class_helper.pxi:5206\u001b[0m, in \u001b[0;36mpandas._libs.hashtable.PyObjectHashTable.get_item\u001b[0;34m()\u001b[0m\n",
      "\u001b[0;31mKeyError\u001b[0m: 'pred_probabilities'",
      "\nThe above exception was the direct cause of the following exception:\n",
      "\u001b[0;31mKeyError\u001b[0m                                  Traceback (most recent call last)",
      "\u001b[1;32m/Users/eugene/OneDrive - Nexus365/PhD/4. Rotation 2/panddascore/analysis_notebooks/inspect_structures.ipynb Cell 1\u001b[0m in \u001b[0;36m<cell line: 13>\u001b[0;34m()\u001b[0m\n\u001b[1;32m     <a href='vscode-notebook-cell:/Users/eugene/OneDrive%20-%20Nexus365/PhD/4.%20Rotation%202/panddascore/analysis_notebooks/inspect_structures.ipynb#W0sZmlsZQ%3D%3D?line=10'>11</a>\u001b[0m \u001b[39m###getting different dataframes\u001b[39;00m\n\u001b[1;32m     <a href='vscode-notebook-cell:/Users/eugene/OneDrive%20-%20Nexus365/PhD/4.%20Rotation%202/panddascore/analysis_notebooks/inspect_structures.ipynb#W0sZmlsZQ%3D%3D?line=11'>12</a>\u001b[0m threshold \u001b[39m=\u001b[39m \u001b[39m0.17\u001b[39m \n\u001b[0;32m---> <a href='vscode-notebook-cell:/Users/eugene/OneDrive%20-%20Nexus365/PhD/4.%20Rotation%202/panddascore/analysis_notebooks/inspect_structures.ipynb#W0sZmlsZQ%3D%3D?line=12'>13</a>\u001b[0m true_pos_frame, true_neg_frame, false_pos_frame, false_neg_frame \u001b[39m=\u001b[39m confusion_matrix\u001b[39m.\u001b[39;49mcompute_true_false_positives_and_negatives(dataframe)\n",
      "File \u001b[0;32m~/OneDrive - Nexus365/PhD/4. Rotation 2/panddascore/analysis_notebooks/plotting/confusion_matrix.py:10\u001b[0m, in \u001b[0;36mcompute_true_false_positives_and_negatives\u001b[0;34m(results_frame, threshold)\u001b[0m\n\u001b[1;32m      8\u001b[0m \u001b[39mdef\u001b[39;00m \u001b[39mcompute_true_false_positives_and_negatives\u001b[39m(results_frame: pd\u001b[39m.\u001b[39mDataFrame, \n\u001b[1;32m      9\u001b[0m                                         threshold\u001b[39m=\u001b[39m\u001b[39m0.5\u001b[39m):\n\u001b[0;32m---> 10\u001b[0m     results_frame[\u001b[39m'\u001b[39m\u001b[39mpred_labels_from_threshold\u001b[39m\u001b[39m'\u001b[39m] \u001b[39m=\u001b[39m (results_frame[\u001b[39m'\u001b[39;49m\u001b[39mpred_probabilities\u001b[39;49m\u001b[39m'\u001b[39;49m] \u001b[39m>\u001b[39m threshold)\u001b[39m.\u001b[39mastype(\u001b[39mint\u001b[39m)\n\u001b[1;32m     12\u001b[0m     true_pos \u001b[39m=\u001b[39m results_frame\u001b[39m.\u001b[39mloc[(results_frame[\u001b[39m'\u001b[39m\u001b[39mlabels_remodelled_yes_no\u001b[39m\u001b[39m'\u001b[39m] \u001b[39m==\u001b[39m \u001b[39m1\u001b[39m) \u001b[39m&\u001b[39m \\\n\u001b[1;32m     13\u001b[0m                                     (results_frame[\u001b[39m'\u001b[39m\u001b[39mpred_labels_from_threshold\u001b[39m\u001b[39m'\u001b[39m] \u001b[39m==\u001b[39m \u001b[39m1\u001b[39m)]\n\u001b[1;32m     14\u001b[0m     true_neg \u001b[39m=\u001b[39m results_frame\u001b[39m.\u001b[39mloc[(results_frame[\u001b[39m'\u001b[39m\u001b[39mlabels_remodelled_yes_no\u001b[39m\u001b[39m'\u001b[39m] \u001b[39m==\u001b[39m \u001b[39m0\u001b[39m) \u001b[39m&\u001b[39m \\\n\u001b[1;32m     15\u001b[0m                                     (results_frame[\u001b[39m'\u001b[39m\u001b[39mpred_labels_from_threshold\u001b[39m\u001b[39m'\u001b[39m] \u001b[39m==\u001b[39m \u001b[39m0\u001b[39m)]\n",
      "File \u001b[0;32m~/opt/miniconda3/envs/pandda_env/lib/python3.9/site-packages/pandas/core/frame.py:3505\u001b[0m, in \u001b[0;36mDataFrame.__getitem__\u001b[0;34m(self, key)\u001b[0m\n\u001b[1;32m   3503\u001b[0m \u001b[39mif\u001b[39;00m \u001b[39mself\u001b[39m\u001b[39m.\u001b[39mcolumns\u001b[39m.\u001b[39mnlevels \u001b[39m>\u001b[39m \u001b[39m1\u001b[39m:\n\u001b[1;32m   3504\u001b[0m     \u001b[39mreturn\u001b[39;00m \u001b[39mself\u001b[39m\u001b[39m.\u001b[39m_getitem_multilevel(key)\n\u001b[0;32m-> 3505\u001b[0m indexer \u001b[39m=\u001b[39m \u001b[39mself\u001b[39;49m\u001b[39m.\u001b[39;49mcolumns\u001b[39m.\u001b[39;49mget_loc(key)\n\u001b[1;32m   3506\u001b[0m \u001b[39mif\u001b[39;00m is_integer(indexer):\n\u001b[1;32m   3507\u001b[0m     indexer \u001b[39m=\u001b[39m [indexer]\n",
      "File \u001b[0;32m~/opt/miniconda3/envs/pandda_env/lib/python3.9/site-packages/pandas/core/indexes/base.py:3623\u001b[0m, in \u001b[0;36mIndex.get_loc\u001b[0;34m(self, key, method, tolerance)\u001b[0m\n\u001b[1;32m   3621\u001b[0m     \u001b[39mreturn\u001b[39;00m \u001b[39mself\u001b[39m\u001b[39m.\u001b[39m_engine\u001b[39m.\u001b[39mget_loc(casted_key)\n\u001b[1;32m   3622\u001b[0m \u001b[39mexcept\u001b[39;00m \u001b[39mKeyError\u001b[39;00m \u001b[39mas\u001b[39;00m err:\n\u001b[0;32m-> 3623\u001b[0m     \u001b[39mraise\u001b[39;00m \u001b[39mKeyError\u001b[39;00m(key) \u001b[39mfrom\u001b[39;00m \u001b[39merr\u001b[39;00m\n\u001b[1;32m   3624\u001b[0m \u001b[39mexcept\u001b[39;00m \u001b[39mTypeError\u001b[39;00m:\n\u001b[1;32m   3625\u001b[0m     \u001b[39m# If we have a listlike key, _check_indexing_error will raise\u001b[39;00m\n\u001b[1;32m   3626\u001b[0m     \u001b[39m#  InvalidIndexError. Otherwise we fall through and re-raise\u001b[39;00m\n\u001b[1;32m   3627\u001b[0m     \u001b[39m#  the TypeError.\u001b[39;00m\n\u001b[1;32m   3628\u001b[0m     \u001b[39mself\u001b[39m\u001b[39m.\u001b[39m_check_indexing_error(key)\n",
      "\u001b[0;31mKeyError\u001b[0m: 'pred_probabilities'"
     ]
    }
   ],
   "source": [
    "# Load Data\n",
    "import pandas as pd\n",
    "import pathlib\n",
    "from analysis_notebooks.plotting import event_residue_plot, confusion_matrix\n",
    "from analysis_notebooks.plotting.get_random_sample import get_random_sample\n",
    "\n",
    "csv_file = pathlib.Path('/Users/eugene/OneDrive - Nexus365/PhD/4. Rotation 2/panddascore/training_results/2022_09_15-04_57_21_PM}/output_labels.csv')\n",
    "# csv_file = pathlib.Path('/dls/labxchem/data/2018/lb18145-80/processing/analysis/eugene/pandda_score/training_results/2022_09_20-07_29_42_PM/output_labels.csv')\n",
    "dataframe = pd.read_csv(csv_file)\n",
    "\n",
    "###getting different dataframes\n",
    "threshold = 0.17 \n",
    "true_pos_frame, true_neg_frame, false_pos_frame, false_neg_frame, _ = confusion_matrix.compute_true_false_positives_and_negatives(dataframe)"
   ]
  },
  {
   "cell_type": "code",
   "execution_count": null,
   "metadata": {},
   "outputs": [],
   "source": [
    "# Inspect true positives\n",
    "# plotting channels to ensure they are correct\n",
    "\n",
    "sample = get_random_sample(true_pos_frame)\n",
    "event_residue_plot.plot(sample)\n",
    "\n",
    "Metadata = event_residue_plot.ShowMetadata(sample, dataframe)\n",
    "Metadata.show_metadata()\n",
    "\n",
    "# inspect on coot (on Diamond Remote Desktop)\n",
    "Metadata.open_coot(show_output_model=False)\n"
   ]
  },
  {
   "cell_type": "code",
   "execution_count": null,
   "metadata": {},
   "outputs": [],
   "source": [
    "# Inspect true negatives\n",
    "# plotting channels to ensure they are correct\n",
    "sample = get_random_sample(true_neg_frame)\n",
    "event_residue_plot.plot(sample)\n",
    "\n",
    "Metadata = event_residue_plot.ShowMetadata(sample, dataframe)\n",
    "Metadata.show_metadata()\n",
    "\n",
    "# inspect on coot (on Diamond Remote Desktop)\n",
    "Metadata.open_coot(show_output_model=False)"
   ]
  },
  {
   "cell_type": "code",
   "execution_count": null,
   "metadata": {},
   "outputs": [],
   "source": [
    "# Inspect false positives\n",
    "# plotting channels to ensure they are correct\n",
    "sample = get_random_sample(false_pos_frame)\n",
    "event_residue_plot.plot(sample)\n",
    "\n",
    "Metadata = event_residue_plot.ShowMetadata(sample, dataframe)\n",
    "Metadata.show_metadata()\n",
    "\n",
    "# inspect on coot (on Diamond Remote Desktop)\n",
    "Metadata.open_coot(show_output_model=False)"
   ]
  },
  {
   "cell_type": "code",
   "execution_count": null,
   "metadata": {},
   "outputs": [],
   "source": [
    "# Inspect false negatives\n",
    "# plotting channels to ensure they are correct\n",
    "sample = get_random_sample(false_neg_frame)\n",
    "event_residue_plot.plot(sample)\n",
    "\n",
    "Metadata = event_residue_plot.ShowMetadata(sample, dataframe)\n",
    "Metadata.show_metadata()\n",
    "\n",
    "# inspect on coot (on Diamond Remote Desktop)\n",
    "Metadata.open_coot(show_output_model=True)"
   ]
  }
 ],
 "metadata": {
  "kernelspec": {
   "display_name": "Python 3.9.13 ('pandda_env')",
   "language": "python",
   "name": "python3"
  },
  "language_info": {
   "codemirror_mode": {
    "name": "ipython",
    "version": 3
   },
   "file_extension": ".py",
   "mimetype": "text/x-python",
   "name": "python",
   "nbconvert_exporter": "python",
   "pygments_lexer": "ipython3",
   "version": "3.9.13"
  },
  "orig_nbformat": 4,
  "vscode": {
   "interpreter": {
    "hash": "d4aa037c68d345c2a34a12ac68ce1127b6e633aa9df5559d04a5f71d0688bec6"
   }
  }
 },
 "nbformat": 4,
 "nbformat_minor": 2
}
