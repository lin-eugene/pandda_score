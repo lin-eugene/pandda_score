{
 "cells": [
  {
   "cell_type": "code",
   "execution_count": null,
   "metadata": {},
   "outputs": [],
   "source": [
    "import pandas as pd\n",
    "import gemmi\n",
    "import matplotlib.pyplot as plt\n",
    "\n",
    "output_labels_csv_name = '/dls/labxchem/data/2018/lb18145-80/processing/analysis/eugene/panddaproject/score_examples/NSP14-x1069/output_labels.csv'\n",
    "\n",
    "df = pd.read_csv(output_labels_csv_name)\n",
    "\n",
    "def read_chain_name(input_model: str,\n",
    "                    input_chain_idx: int):\n",
    "    structure = gemmi.read_structure(input_model)[0]\n",
    "    chain_name = structure[input_chain_idx].name\n",
    "    return chain_name\n",
    "\n",
    "def list_residues_and_pred_labels(output_labels_dataframe: pd.DataFrame):\n",
    "    input_model_list = output_labels_dataframe['input_model'].tolist()\n",
    "    input_chain_idx_list = output_labels_dataframe['input_chain_idx'].tolist()\n",
    "    chain_names = list(map(read_chain_name, \n",
    "                            input_model_list, \n",
    "                            input_chain_idx_list))\n",
    "    residue_names = output_labels_dataframe['residue_name'].tolist()\n",
    "    chain_residue_names = list(map('-'.join, zip(chain_names, residue_names)))\n",
    "    pred_labels = output_labels_dataframe['pred_label'].tolist()\n",
    "\n",
    "    return residue_names, pred_labels\n",
    "\n",
    "def plot_residue_vs_pred_label(residue_names: list, pred_labels: list):\n",
    "    plt.figure(figsize=(20, 10))\n",
    "    plt.bar(residue_names, pred_labels)\n",
    "    plt.xticks(rotation=90)\n",
    "    plt.show()\n",
    "\n",
    "residue_names, pred_labels = list_residues_and_pred_labels(df)\n",
    "plot_residue_vs_pred_label(residue_names, pred_labels)\n",
    "\n",
    "print(residue_names)\n",
    "\n"
   ]
  }
 ],
 "metadata": {
  "kernelspec": {
   "display_name": "Python 3.9.13 ('pandda_env')",
   "language": "python",
   "name": "python3"
  },
  "language_info": {
   "name": "python",
   "version": "3.9.13"
  },
  "orig_nbformat": 4,
  "vscode": {
   "interpreter": {
    "hash": "d4aa037c68d345c2a34a12ac68ce1127b6e633aa9df5559d04a5f71d0688bec6"
   }
  }
 },
 "nbformat": 4,
 "nbformat_minor": 2
}
