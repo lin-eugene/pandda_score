{
 "cells": [
  {
   "cell_type": "code",
   "execution_count": null,
   "metadata": {},
   "outputs": [],
   "source": [
    "import pathlib\n",
    "import pandas as pd\n",
    "\n",
    "csvfile = '/dls/labxchem/data/2018/lb18145-80/processing/analysis/eugene/panddaproject/training_data_paths/training_set.csv'\n",
    "\n",
    "df = pd.read_csv(csvfile)\n",
    "df_remodelled = df[df['remodelled'] == 1]\n",
    "df_not_remodelled = df[df['remodelled'] == 0]\n",
    "systems = df.system.unique()\n"
   ]
  }
 ],
 "metadata": {
  "language_info": {
   "name": "python"
  },
  "orig_nbformat": 4
 },
 "nbformat": 4,
 "nbformat_minor": 2
}
