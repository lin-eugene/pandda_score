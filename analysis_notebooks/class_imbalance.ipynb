{
 "cells": [
  {
   "cell_type": "code",
   "execution_count": null,
   "metadata": {},
   "outputs": [],
   "source": [
    "import pathlib\n",
    "import pandas as pd\n",
    "import sns\n",
    "\n",
    "csvfile = '/dls/labxchem/data/2018/lb18145-80/processing/analysis/eugene/panddaproject/training_data_paths/training_set.csv'\n",
    "\n",
    "df = pd.read_csv(csvfile)\n",
    "\n",
    "\n",
    "\n",
    "def num_remodelled_vs_not_all_systems(df):\n",
    "    def num_remodelled_vs_not(system):\n",
    "        df = df[df.system == system]\n",
    "        df_remodelled = df[df['remodelled'] == 1]\n",
    "        df_not_remodelled = df[df['remodelled'] == 0]\n",
    "        df_remodelled_percentage = len(df_remodelled) / len(df)\n",
    "        return {'system': system,\n",
    "                'len_remodelled': len(df_remodelled), \n",
    "                'len_not_remodelled': len(df_not_remodelled),\n",
    "                'remodelled_percentage': df_remodelled_percentage,\n",
    "                'not_remodelled_percentage': 1 - df_remodelled_percentage}\n",
    "\n",
    "    systems = df.system.unique()\n",
    "\n",
    "    lst = list(map(num_remodelled_vs_not, systems))\n",
    "    return lst\n",
    "\n",
    "lst = num_remodelled_vs_not_all_systems(df)\n",
    "data = pd.DataFrame(lst)\n",
    "\n"
   ]
  }
 ],
 "metadata": {
  "kernelspec": {
   "display_name": "Python 3.9.13 ('pandda_env')",
   "language": "python",
   "name": "python3"
  },
  "language_info": {
   "name": "python",
   "version": "3.9.13"
  },
  "orig_nbformat": 4,
  "vscode": {
   "interpreter": {
    "hash": "d4aa037c68d345c2a34a12ac68ce1127b6e633aa9df5559d04a5f71d0688bec6"
   }
  }
 },
 "nbformat": 4,
 "nbformat_minor": 2
}
