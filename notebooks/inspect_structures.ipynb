{
 "cells": [
  {
   "cell_type": "code",
   "execution_count": null,
   "metadata": {},
   "outputs": [],
   "source": [
    "# Load Data\n",
    "import pandas as pd\n",
    "import pathlib\n",
    "from notebooks.plotting import event_residue_plot\n",
    "from notebooks.plotting.get_random_sample import get_random_sample\n",
    "\n",
    "csv_file = pathlib.Path('/Users/eugene/OneDrive - Nexus365/PhD/4. Rotation 2/panddascore/training_results/2022_09_20-05_14_47_PM/output_labels.csv')\n",
    "# csv_file = pathlib.Path('/dls/labxchem/data/2018/lb18145-80/processing/analysis/eugene/panddaproject/training_results/2022_09_20-07_29_42_PM/output_labels.csv')\n",
    "dataframe = pd.read_csv(csv_file)\n",
    "\n",
    "from analysis.false_pos_and_negs import create_false_pos_and_negs_csv\n",
    "true_pos_frame, true_neg_frame, false_pos_frame, false_neg_frame = create_false_pos_and_negs_csv(dataframe)"
   ]
  },
  {
   "cell_type": "code",
   "execution_count": null,
   "metadata": {},
   "outputs": [],
   "source": [
    "# Inspect true positives\n",
    "# plotting channels to ensure they are correct\n",
    "\n",
    "sample = get_random_sample(true_pos_frame)\n",
    "event_residue_plot.plot(sample)\n",
    "\n",
    "Metadata = event_residue_plot.ShowMetadata(sample, dataframe)\n",
    "Metadata.show_metadata()\n",
    "\n",
    "# inspect on coot (on Diamond Remote Desktop)\n",
    "Metadata.open_coot()\n"
   ]
  },
  {
   "cell_type": "code",
   "execution_count": null,
   "metadata": {},
   "outputs": [],
   "source": [
    "# Inspect true negatives\n",
    "# plotting channels to ensure they are correct\n",
    "sample = get_random_sample(true_neg_frame)\n",
    "event_residue_plot.plot(sample)\n",
    "\n",
    "Metadata = event_residue_plot.ShowMetadata(sample, dataframe)\n",
    "Metadata.show_metadata()\n",
    "\n",
    "# inspect on coot (on Diamond Remote Desktop)\n",
    "Metadata.open_coot()"
   ]
  },
  {
   "cell_type": "code",
   "execution_count": null,
   "metadata": {},
   "outputs": [],
   "source": [
    "# Inspect false positives\n",
    "# plotting channels to ensure they are correct\n",
    "sample = get_random_sample(false_pos_frame)\n",
    "event_residue_plot.plot(sample)\n",
    "\n",
    "Metadata = event_residue_plot.ShowMetadata(sample, dataframe)\n",
    "Metadata.show_metadata()\n",
    "\n",
    "# inspect on coot (on Diamond Remote Desktop)\n",
    "Metadata.open_coot()"
   ]
  },
  {
   "cell_type": "code",
   "execution_count": null,
   "metadata": {},
   "outputs": [],
   "source": [
    "# Inspect false negatives\n",
    "# plotting channels to ensure they are correct\n",
    "sample = get_random_sample(false_neg_frame)\n",
    "event_residue_plot.plot(sample)\n",
    "\n",
    "Metadata = event_residue_plot.ShowMetadata(sample, dataframe)\n",
    "Metadata.show_metadata()\n",
    "\n",
    "# inspect on coot (on Diamond Remote Desktop)\n",
    "Metadata.open_coot()"
   ]
  }
 ],
 "metadata": {
  "kernelspec": {
   "display_name": "Python 3.9.13 ('pandda_env')",
   "language": "python",
   "name": "python3"
  },
  "language_info": {
   "name": "python",
   "version": "3.9.13"
  },
  "orig_nbformat": 4,
  "vscode": {
   "interpreter": {
    "hash": "d4aa037c68d345c2a34a12ac68ce1127b6e633aa9df5559d04a5f71d0688bec6"
   }
  }
 },
 "nbformat": 4,
 "nbformat_minor": 2
}
