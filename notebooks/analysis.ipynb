{
 "cells": [
  {
   "cell_type": "code",
   "execution_count": null,
   "metadata": {},
   "outputs": [],
   "source": [
    "from lib.extract_box import create_numpy_array_with_gemmi_interpolate\n",
    "import pandas as pd\n",
    "\n",
    "#feed in single dataset to model and see what it outputs\n",
    "from learning.torch_data_setup import *\n",
    "import pathlib\n",
    "from torch.utils.data import DataLoader\n",
    "\n",
    "training_csv = pathlib.Path.cwd() / \"training\" / \"training_set.csv\"\n",
    "training_dframe = pd.read_csv(training_csv)\n",
    "training_dataset = ResidueDataset(residues_dframe=training_dframe, \n",
    "                                    transform=transforms.Compose([\n",
    "                                        SamplingRandomRotations(),\n",
    "                                        ConcatEventResidueToTwoChannels(),\n",
    "                                        ToTensor()\n",
    "                                    ])) # -> event_residue_array has 4 dims [C, D, W, H] (Channels, C = 2; D = 1; W = 32; H = 32)\n",
    "\n",
    "\n",
    "# sample = training_dataset[1]\n",
    "train_dataloader = DataLoader(dataset=training_dataset, \n",
    "                    batch_size=1, \n",
    "                    num_workers=1,\n",
    "                    shuffle=True) # -> event_residue_array has 5 dims [N, C, D, W, H] (N_batches, N = 1; C = 2; D = 1; W = 32; H = 32)\n",
    "\n"
   ]
  },
  {
   "cell_type": "markdown",
   "metadata": {},
   "source": []
  }
 ],
 "metadata": {
  "kernelspec": {
   "display_name": "Python 3.9.13 ('pandda_env')",
   "language": "python",
   "name": "python3"
  },
  "language_info": {
   "name": "python",
   "version": "3.9.13"
  },
  "orig_nbformat": 4,
  "vscode": {
   "interpreter": {
    "hash": "d4aa037c68d345c2a34a12ac68ce1127b6e633aa9df5559d04a5f71d0688bec6"
   }
  }
 },
 "nbformat": 4,
 "nbformat_minor": 2
}
