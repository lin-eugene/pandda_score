{
 "cells": [
  {
   "cell_type": "code",
   "execution_count": null,
   "metadata": {},
   "outputs": [],
   "source": [
    "from lib.extract_box import create_numpy_array_with_gemmi_interpolate\n",
    "import pandas as pd\n",
    "\n",
    "#feed in single dataset to model and see what it outputs\n",
    "from learning.torch_data_setup import *\n",
    "import pathlib\n",
    "from torch.utils.data import DataLoader\n",
    "\n",
    "training_csv = pathlib.Path.cwd() / \"training\" / \"training_set.csv\"\n",
    "training_dframe = pd.read_csv(training_csv)\n",
    "training_dataset = ResidueDataset(residues_dframe=training_dframe, \n",
    "                                    transform=transforms.Compose([\n",
    "                                        SamplingRandomRotations(),\n",
    "                                        ConcatEventResidueToTwoChannels(),\n",
    "                                        ToTensor()\n",
    "                                    ])) # -> event_residue_array has 4 dims [C, D, W, H] (Channels, C = 2; D = 1; W = 32; H = 32)\n",
    "\n",
    "\n",
    "# sample = training_dataset[1]\n",
    "train_dataloader = DataLoader(dataset=training_dataset, \n",
    "                    batch_size=1, \n",
    "                    num_workers=1,\n",
    "                    shuffle=True) # -> event_residue_array has 5 dims [N, C, D, W, H] (N_batches, N = 1; C = 2; D = 1; W = 32; H = 32)\n",
    "\n"
   ]
  },
  {
   "cell_type": "code",
   "execution_count": null,
   "metadata": {},
   "outputs": [],
   "source": [
    "# Confusion Matrix\n",
    "import pandas as pd\n",
    "\n",
    "def compute_true_false_positives_and_negatives(csv_path: str):\n",
    "    results_frame = pd.read_csv(csv_path)\n",
    "    true_pos = results_frame.loc[(results_frame['labels_remodelled_yes_no'] == 1 & \\\n",
    "                                    results_frame['pred_labels'] == 1)]\n",
    "    true_neg = results_frame.loc[(results_frame['labels_remodelled_yes_no'] == 0 & \\\n",
    "                                    results_frame['pred_labels'] == 0)]\n",
    "    false_pos = results_frame.loc[(results_frame['labels_remodelled_yes_no'] == 0 & \\\n",
    "                                    results_frame['pred_labels'] == 1)]\n",
    "    false_neg = results_frame.loc[(results_frame['labels_remodelled_yes_no'] == 1 & \\\n",
    "                                    results_frame['pred_labels'] == 0)]\n",
    "    \n",
    "    return true_pos, true_neg, false_pos, false_neg\n",
    "\n",
    "def compute_confusion_matrix(true_pos,\n",
    "                                true_neg,\n",
    "                                false_pos,\n",
    "                                false_neg):\n",
    "    true_pos_count = len(true_pos)\n",
    "    true_neg_count = len(true_neg)\n",
    "    false_pos_count = len(false_pos)\n",
    "    false_neg_count = len(false_neg)\n",
    "\n",
    "    print(f'{true_pos_count=}')\n",
    "    print(f'{true_neg_count=}')\n",
    "    print (f'{false_pos_count=}')\n",
    "    print(f'{false_neg_count=}')\n",
    "\n",
    "    return true_pos_count, true_neg_count, false_pos_count, false_neg_count\n",
    "\n",
    "#####\n",
    "\n",
    "csv_path = pathlib.Path.cwd().parent / 'training_results' / '2022_09_15-07_05_30_PM' / 'output_labels.csv'\n",
    "true_pos, true_neg, false_pos, false_neg = compute_true_false_positives_and_negatives(csv_path)\n",
    "true_pos_count, true_neg_count, false_pos_count, false_neg_count = compute_confusion_matrix(true_pos,\n",
    "                                                                                            true_neg,\n",
    "                                                                                            false_pos,\n",
    "                                                                                            false_neg)\n"
   ]
  }
 ],
 "metadata": {
  "kernelspec": {
   "display_name": "Python 3.9.13 ('pandda_env')",
   "language": "python",
   "name": "python3"
  },
  "language_info": {
   "name": "python",
   "version": "3.9.13"
  },
  "orig_nbformat": 4,
  "vscode": {
   "interpreter": {
    "hash": "d4aa037c68d345c2a34a12ac68ce1127b6e633aa9df5559d04a5f71d0688bec6"
   }
  }
 },
 "nbformat": 4,
 "nbformat_minor": 2
}
